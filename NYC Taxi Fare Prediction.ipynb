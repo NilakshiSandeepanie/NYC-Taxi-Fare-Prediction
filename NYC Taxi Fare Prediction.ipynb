{
 "cells": [
  {
   "cell_type": "markdown",
   "id": "b1d87d3d",
   "metadata": {},
   "source": [
    "dataset : Yellow taxi trip records include fields capturing pick-up and drop-off dates/times, pick-up and drop-off locations, trip distances, itemized fares, rate types, payment types, and driver-reported passenger counts."
   ]
  },
  {
   "cell_type": "code",
   "execution_count": 3,
   "id": "39813553",
   "metadata": {},
   "outputs": [
    {
     "name": "stdout",
     "output_type": "stream",
     "text": [
      "Parquet file has been converted to D:/ML Models/Big Data Mining/Data/yellow_tripdata_2022-10.csv\n"
     ]
    }
   ],
   "source": [
    "import pyarrow.parquet as pq\n",
    "import pandas as pd\n",
    "\n",
    "def parquet_to_csv(parquet_file_path, csv_file_path):\n",
    "    # Read the Parquet file into a PyArrow Table\n",
    "    table = pq.read_table(parquet_file_path)\n",
    "    \n",
    "    # Convert the PyArrow Table to a Pandas DataFrame\n",
    "    df = table.to_pandas()\n",
    "    \n",
    "    # Write the DataFrame to a CSV file\n",
    "    df.to_csv(csv_file_path, index=False)\n",
    "    print(f\"Parquet file has been converted to {csv_file_path}\")\n",
    "\n",
    "# Specify the path to your Parquet file and the output CSV file\n",
    "parquet_file_path = 'D:/ML Models/Big Data Mining/Data/yellow_tripdata_2022-10.parquet'\n",
    "csv_file_path = 'D:/ML Models/Big Data Mining/Data/yellow_tripdata_2022-10.csv'\n",
    "\n",
    "# Call the function to convert Parquet to CSV\n",
    "parquet_to_csv(parquet_file_path, csv_file_path)\n"
   ]
  },
  {
   "cell_type": "code",
   "execution_count": 4,
   "id": "fdca7440",
   "metadata": {},
   "outputs": [],
   "source": [
    "import sys\n",
    "import os\n",
    "\n",
    "# Assuming PySpark is installed in the default location\n",
    "pyspark_path = os.path.join(os.path.expanduser(\"~\"), \".local\", \"lib\", \"python3.8\", \"site-packages\", \"pyspark\")\n",
    "\n",
    "# Add the PySpark directory to sys.path\n",
    "sys.path.append(pyspark_path)\n",
    "\n"
   ]
  },
  {
   "cell_type": "code",
   "execution_count": 1,
   "id": "3b9ad7d3",
   "metadata": {},
   "outputs": [
    {
     "name": "stdout",
     "output_type": "stream",
     "text": [
      "c:\\Users\\Nilakshi\\anaconda3\\lib\\site-packages\\pyspark\\__init__.py\n"
     ]
    }
   ],
   "source": [
    "import pyspark\n",
    "\n",
    "print(pyspark.__file__)\n"
   ]
  },
  {
   "cell_type": "code",
   "execution_count": 5,
   "id": "01274090",
   "metadata": {},
   "outputs": [
    {
     "name": "stdout",
     "output_type": "stream",
     "text": [
      "root\n",
      " |-- VendorID: integer (nullable = true)\n",
      " |-- tpep_pickup_datetime: timestamp (nullable = true)\n",
      " |-- tpep_dropoff_datetime: timestamp (nullable = true)\n",
      " |-- passenger_count: double (nullable = true)\n",
      " |-- trip_distance: double (nullable = true)\n",
      " |-- RatecodeID: double (nullable = true)\n",
      " |-- store_and_fwd_flag: string (nullable = true)\n",
      " |-- PULocationID: integer (nullable = true)\n",
      " |-- DOLocationID: integer (nullable = true)\n",
      " |-- payment_type: integer (nullable = true)\n",
      " |-- fare_amount: double (nullable = true)\n",
      " |-- extra: double (nullable = true)\n",
      " |-- mta_tax: double (nullable = true)\n",
      " |-- tip_amount: double (nullable = true)\n",
      " |-- tolls_amount: double (nullable = true)\n",
      " |-- improvement_surcharge: double (nullable = true)\n",
      " |-- total_amount: double (nullable = true)\n",
      " |-- congestion_surcharge: double (nullable = true)\n",
      " |-- airport_fee: double (nullable = true)\n",
      "\n",
      "+--------+--------------------+---------------------+---------------+-------------+----------+------------------+------------+------------+------------+-----------+-----+-------+----------+------------+---------------------+------------+--------------------+-----------+\n",
      "|VendorID|tpep_pickup_datetime|tpep_dropoff_datetime|passenger_count|trip_distance|RatecodeID|store_and_fwd_flag|PULocationID|DOLocationID|payment_type|fare_amount|extra|mta_tax|tip_amount|tolls_amount|improvement_surcharge|total_amount|congestion_surcharge|airport_fee|\n",
      "+--------+--------------------+---------------------+---------------+-------------+----------+------------------+------------+------------+------------+-----------+-----+-------+----------+------------+---------------------+------------+--------------------+-----------+\n",
      "|       1| 2022-10-01 00:03:41|  2022-10-01 00:18:39|            1.0|          1.7|       1.0|                 N|         249|         107|           1|        9.5|  3.0|    0.5|      2.65|         0.0|                  0.3|       15.95|                 2.5|        0.0|\n",
      "|       2| 2022-10-01 00:14:30|  2022-10-01 00:19:48|            2.0|         0.72|       1.0|                 N|         151|         238|           2|        5.5|  0.5|    0.5|       0.0|         0.0|                  0.3|         9.3|                 2.5|        0.0|\n",
      "|       2| 2022-10-01 00:27:13|  2022-10-01 00:37:41|            1.0|         1.74|       1.0|                 N|         238|         166|           1|        9.0|  0.5|    0.5|      2.06|         0.0|                  0.3|       12.36|                 0.0|        0.0|\n",
      "|       1| 2022-10-01 00:32:53|  2022-10-01 00:38:55|            0.0|          1.3|       1.0|                 N|         142|         239|           1|        6.5|  3.0|    0.5|      2.05|         0.0|                  0.3|       12.35|                 2.5|        0.0|\n",
      "|       1| 2022-10-01 00:44:55|  2022-10-01 00:50:21|            0.0|          1.0|       1.0|                 N|         238|         166|           1|        6.0|  0.5|    0.5|       1.8|         0.0|                  0.3|         9.1|                 0.0|        0.0|\n",
      "+--------+--------------------+---------------------+---------------+-------------+----------+------------------+------------+------------+------------+-----------+-----+-------+----------+------------+---------------------+------------+--------------------+-----------+\n",
      "only showing top 5 rows\n",
      "\n"
     ]
    }
   ],
   "source": [
    "# Load and explore the data\n",
    "\n",
    "from pyspark.sql import SparkSession \n",
    "import pandas as pd\n",
    "\n",
    "# Initialize Spark session\n",
    "# SparkSession provides a way to interact with various Spark functionalities and create and manage DataFrames and datasets\n",
    "spark = SparkSession.builder.appName(\"NYC_Taxi_Trip_Analysis\").getOrCreate()\n",
    "\n",
    "# Load the data\n",
    "file_path = 'D:/ML Models/Big Data Mining/Data/yellow_tripdata_2022-10.csv'\n",
    "df = spark.read.csv(file_path, header=True, inferSchema=True)\n",
    "\n",
    "# Show basic info\n",
    "df.printSchema()\n",
    "df.show(5)\n"
   ]
  },
  {
   "cell_type": "code",
   "execution_count": 6,
   "id": "0231c46d",
   "metadata": {},
   "outputs": [
    {
     "name": "stdout",
     "output_type": "stream",
     "text": [
      "+--------+--------------------+---------------------+---------------+-------------+----------+------------------+------------+------------+------------+-----------+-----+-------+----------+------------+---------------------+------------+--------------------+-----------+-----------+----------------+------------+\n",
      "|VendorID|tpep_pickup_datetime|tpep_dropoff_datetime|passenger_count|trip_distance|RatecodeID|store_and_fwd_flag|PULocationID|DOLocationID|payment_type|fare_amount|extra|mta_tax|tip_amount|tolls_amount|improvement_surcharge|total_amount|congestion_surcharge|airport_fee|pickup_hour|pickup_dayofweek|pickup_month|\n",
      "+--------+--------------------+---------------------+---------------+-------------+----------+------------------+------------+------------+------------+-----------+-----+-------+----------+------------+---------------------+------------+--------------------+-----------+-----------+----------------+------------+\n",
      "|       1| 2022-10-01 00:03:41|  2022-10-01 00:18:39|            1.0|          1.7|       1.0|                 N|         249|         107|           1|        9.5|  3.0|    0.5|      2.65|         0.0|                  0.3|       15.95|                 2.5|        0.0|          0|               7|          10|\n",
      "|       2| 2022-10-01 00:14:30|  2022-10-01 00:19:48|            2.0|         0.72|       1.0|                 N|         151|         238|           2|        5.5|  0.5|    0.5|       0.0|         0.0|                  0.3|         9.3|                 2.5|        0.0|          0|               7|          10|\n",
      "|       2| 2022-10-01 00:27:13|  2022-10-01 00:37:41|            1.0|         1.74|       1.0|                 N|         238|         166|           1|        9.0|  0.5|    0.5|      2.06|         0.0|                  0.3|       12.36|                 0.0|        0.0|          0|               7|          10|\n",
      "|       1| 2022-10-01 00:32:53|  2022-10-01 00:38:55|            0.0|          1.3|       1.0|                 N|         142|         239|           1|        6.5|  3.0|    0.5|      2.05|         0.0|                  0.3|       12.35|                 2.5|        0.0|          0|               7|          10|\n",
      "|       1| 2022-10-01 00:44:55|  2022-10-01 00:50:21|            0.0|          1.0|       1.0|                 N|         238|         166|           1|        6.0|  0.5|    0.5|       1.8|         0.0|                  0.3|         9.1|                 0.0|        0.0|          0|               7|          10|\n",
      "+--------+--------------------+---------------------+---------------+-------------+----------+------------------+------------+------------+------------+-----------+-----+-------+----------+------------+---------------------+------------+--------------------+-----------+-----------+----------------+------------+\n",
      "only showing top 5 rows\n",
      "\n"
     ]
    }
   ],
   "source": [
    "# Remove rows with null values\n",
    "df_clean = df.dropna()\n",
    "\n",
    "# Filter trips with non-sensical trip durations or distances\n",
    "df_clean = df_clean.filter((df_clean.trip_distance > 0) & (df_clean.fare_amount > 0))\n",
    "\n",
    "# Extract relevant datetime information\n",
    "from pyspark.sql.functions import col, hour, dayofweek, month\n",
    "\n",
    "# Derive pickup hour, pickup day of week, pickup month\n",
    "df_clean = df_clean.withColumn(\"pickup_hour\", hour(col(\"tpep_pickup_datetime\")))\n",
    "df_clean = df_clean.withColumn(\"pickup_dayofweek\", dayofweek(col(\"tpep_pickup_datetime\")))\n",
    "df_clean = df_clean.withColumn(\"pickup_month\", month(col(\"tpep_pickup_datetime\")))\n",
    "\n",
    "df_clean.show(5)\n"
   ]
  },
  {
   "cell_type": "code",
   "execution_count": 6,
   "id": "d181ba76",
   "metadata": {},
   "outputs": [
    {
     "ename": "Py4JJavaError",
     "evalue": "An error occurred while calling o74.collectToPython.\n: java.lang.OutOfMemoryError: Java heap space\r\n\tat org.apache.spark.sql.execution.SparkPlan$$anon$1._next(SparkPlan.scala:415)\r\n\tat org.apache.spark.sql.execution.SparkPlan$$anon$1.getNext(SparkPlan.scala:426)\r\n\tat org.apache.spark.sql.execution.SparkPlan$$anon$1.getNext(SparkPlan.scala:412)\r\n\tat org.apache.spark.util.NextIterator.hasNext(NextIterator.scala:73)\r\n\tat scala.collection.Iterator.foreach(Iterator.scala:943)\r\n\tat scala.collection.Iterator.foreach$(Iterator.scala:943)\r\n\tat org.apache.spark.util.NextIterator.foreach(NextIterator.scala:21)\r\n\tat org.apache.spark.sql.execution.SparkPlan.$anonfun$executeCollect$1(SparkPlan.scala:449)\r\n\tat org.apache.spark.sql.execution.SparkPlan.$anonfun$executeCollect$1$adapted(SparkPlan.scala:448)\r\n\tat org.apache.spark.sql.execution.SparkPlan$$Lambda/0x0000021f03f84000.apply(Unknown Source)\r\n\tat scala.collection.IndexedSeqOptimized.foreach(IndexedSeqOptimized.scala:36)\r\n\tat scala.collection.IndexedSeqOptimized.foreach$(IndexedSeqOptimized.scala:33)\r\n\tat scala.collection.mutable.ArrayOps$ofRef.foreach(ArrayOps.scala:198)\r\n\tat org.apache.spark.sql.execution.SparkPlan.executeCollect(SparkPlan.scala:448)\r\n\tat org.apache.spark.sql.Dataset.$anonfun$collectToPython$1(Dataset.scala:4148)\r\n\tat org.apache.spark.sql.Dataset$$Lambda/0x0000021f03f3e5b0.apply(Unknown Source)\r\n\tat org.apache.spark.sql.Dataset.$anonfun$withAction$2(Dataset.scala:4322)\r\n\tat org.apache.spark.sql.Dataset$$Lambda/0x0000021f03cb44b0.apply(Unknown Source)\r\n\tat org.apache.spark.sql.execution.QueryExecution$.withInternalError(QueryExecution.scala:546)\r\n\tat org.apache.spark.sql.Dataset.$anonfun$withAction$1(Dataset.scala:4320)\r\n\tat org.apache.spark.sql.Dataset$$Lambda/0x0000021f03bd21c8.apply(Unknown Source)\r\n\tat org.apache.spark.sql.execution.SQLExecution$.$anonfun$withNewExecutionId$6(SQLExecution.scala:125)\r\n\tat org.apache.spark.sql.execution.SQLExecution$$$Lambda/0x0000021f03bd5950.apply(Unknown Source)\r\n\tat org.apache.spark.sql.execution.SQLExecution$.withSQLConfPropagated(SQLExecution.scala:201)\r\n\tat org.apache.spark.sql.execution.SQLExecution$.$anonfun$withNewExecutionId$1(SQLExecution.scala:108)\r\n\tat org.apache.spark.sql.execution.SQLExecution$$$Lambda/0x0000021f03bd2490.apply(Unknown Source)\r\n\tat org.apache.spark.sql.SparkSession.withActive(SparkSession.scala:900)\r\n\tat org.apache.spark.sql.execution.SQLExecution$.withNewExecutionId(SQLExecution.scala:66)\r\n\tat org.apache.spark.sql.Dataset.withAction(Dataset.scala:4320)\r\n\tat org.apache.spark.sql.Dataset.collectToPython(Dataset.scala:4145)\r\n\tat java.base/jdk.internal.reflect.NativeMethodAccessorImpl.invoke0(Native Method)\r\n\tat java.base/jdk.internal.reflect.NativeMethodAccessorImpl.invoke(NativeMethodAccessorImpl.java:75)\r\n",
     "output_type": "error",
     "traceback": [
      "\u001b[1;31m---------------------------------------------------------------------------\u001b[0m",
      "\u001b[1;31mPy4JJavaError\u001b[0m                             Traceback (most recent call last)",
      "Cell \u001b[1;32mIn[6], line 5\u001b[0m\n\u001b[0;32m      2\u001b[0m \u001b[38;5;28;01mimport\u001b[39;00m \u001b[38;5;21;01mseaborn\u001b[39;00m \u001b[38;5;28;01mas\u001b[39;00m \u001b[38;5;21;01msns\u001b[39;00m\n\u001b[0;32m      4\u001b[0m \u001b[38;5;66;03m# Convert to pandas for EDA\u001b[39;00m\n\u001b[1;32m----> 5\u001b[0m pandas_df \u001b[38;5;241m=\u001b[39m \u001b[43mdf_clean\u001b[49m\u001b[38;5;241;43m.\u001b[39;49m\u001b[43mtoPandas\u001b[49m\u001b[43m(\u001b[49m\u001b[43m)\u001b[49m\n\u001b[0;32m      7\u001b[0m \u001b[38;5;66;03m# Plot trip counts by hour\u001b[39;00m\n\u001b[0;32m      8\u001b[0m plt\u001b[38;5;241m.\u001b[39mfigure(figsize\u001b[38;5;241m=\u001b[39m(\u001b[38;5;241m10\u001b[39m, \u001b[38;5;241m6\u001b[39m))\n",
      "File \u001b[1;32md:\\ML Models\\Big Data Mining\\.venv\\lib\\site-packages\\pyspark\\sql\\pandas\\conversion.py:202\u001b[0m, in \u001b[0;36mPandasConversionMixin.toPandas\u001b[1;34m(self)\u001b[0m\n\u001b[0;32m    199\u001b[0m             \u001b[38;5;28;01mraise\u001b[39;00m\n\u001b[0;32m    201\u001b[0m \u001b[38;5;66;03m# Below is toPandas without Arrow optimization.\u001b[39;00m\n\u001b[1;32m--> 202\u001b[0m rows \u001b[38;5;241m=\u001b[39m \u001b[38;5;28;43mself\u001b[39;49m\u001b[38;5;241;43m.\u001b[39;49m\u001b[43mcollect\u001b[49m\u001b[43m(\u001b[49m\u001b[43m)\u001b[49m\n\u001b[0;32m    203\u001b[0m \u001b[38;5;28;01mif\u001b[39;00m \u001b[38;5;28mlen\u001b[39m(rows) \u001b[38;5;241m>\u001b[39m \u001b[38;5;241m0\u001b[39m:\n\u001b[0;32m    204\u001b[0m     pdf \u001b[38;5;241m=\u001b[39m pd\u001b[38;5;241m.\u001b[39mDataFrame\u001b[38;5;241m.\u001b[39mfrom_records(\n\u001b[0;32m    205\u001b[0m         rows, index\u001b[38;5;241m=\u001b[39m\u001b[38;5;28mrange\u001b[39m(\u001b[38;5;28mlen\u001b[39m(rows)), columns\u001b[38;5;241m=\u001b[39m\u001b[38;5;28mself\u001b[39m\u001b[38;5;241m.\u001b[39mcolumns  \u001b[38;5;66;03m# type: ignore[arg-type]\u001b[39;00m\n\u001b[0;32m    206\u001b[0m     )\n",
      "File \u001b[1;32md:\\ML Models\\Big Data Mining\\.venv\\lib\\site-packages\\pyspark\\sql\\dataframe.py:1261\u001b[0m, in \u001b[0;36mDataFrame.collect\u001b[1;34m(self)\u001b[0m\n\u001b[0;32m   1241\u001b[0m \u001b[38;5;250m\u001b[39m\u001b[38;5;124;03m\"\"\"Returns all the records as a list of :class:`Row`.\u001b[39;00m\n\u001b[0;32m   1242\u001b[0m \n\u001b[0;32m   1243\u001b[0m \u001b[38;5;124;03m.. versionadded:: 1.3.0\u001b[39;00m\n\u001b[1;32m   (...)\u001b[0m\n\u001b[0;32m   1258\u001b[0m \u001b[38;5;124;03m[Row(age=14, name='Tom'), Row(age=23, name='Alice'), Row(age=16, name='Bob')]\u001b[39;00m\n\u001b[0;32m   1259\u001b[0m \u001b[38;5;124;03m\"\"\"\u001b[39;00m\n\u001b[0;32m   1260\u001b[0m \u001b[38;5;28;01mwith\u001b[39;00m SCCallSiteSync(\u001b[38;5;28mself\u001b[39m\u001b[38;5;241m.\u001b[39m_sc):\n\u001b[1;32m-> 1261\u001b[0m     sock_info \u001b[38;5;241m=\u001b[39m \u001b[38;5;28;43mself\u001b[39;49m\u001b[38;5;241;43m.\u001b[39;49m\u001b[43m_jdf\u001b[49m\u001b[38;5;241;43m.\u001b[39;49m\u001b[43mcollectToPython\u001b[49m\u001b[43m(\u001b[49m\u001b[43m)\u001b[49m\n\u001b[0;32m   1262\u001b[0m \u001b[38;5;28;01mreturn\u001b[39;00m \u001b[38;5;28mlist\u001b[39m(_load_from_socket(sock_info, BatchedSerializer(CPickleSerializer())))\n",
      "File \u001b[1;32md:\\ML Models\\Big Data Mining\\.venv\\lib\\site-packages\\py4j\\java_gateway.py:1322\u001b[0m, in \u001b[0;36mJavaMember.__call__\u001b[1;34m(self, *args)\u001b[0m\n\u001b[0;32m   1316\u001b[0m command \u001b[38;5;241m=\u001b[39m proto\u001b[38;5;241m.\u001b[39mCALL_COMMAND_NAME \u001b[38;5;241m+\u001b[39m\\\n\u001b[0;32m   1317\u001b[0m     \u001b[38;5;28mself\u001b[39m\u001b[38;5;241m.\u001b[39mcommand_header \u001b[38;5;241m+\u001b[39m\\\n\u001b[0;32m   1318\u001b[0m     args_command \u001b[38;5;241m+\u001b[39m\\\n\u001b[0;32m   1319\u001b[0m     proto\u001b[38;5;241m.\u001b[39mEND_COMMAND_PART\n\u001b[0;32m   1321\u001b[0m answer \u001b[38;5;241m=\u001b[39m \u001b[38;5;28mself\u001b[39m\u001b[38;5;241m.\u001b[39mgateway_client\u001b[38;5;241m.\u001b[39msend_command(command)\n\u001b[1;32m-> 1322\u001b[0m return_value \u001b[38;5;241m=\u001b[39m \u001b[43mget_return_value\u001b[49m\u001b[43m(\u001b[49m\n\u001b[0;32m   1323\u001b[0m \u001b[43m    \u001b[49m\u001b[43manswer\u001b[49m\u001b[43m,\u001b[49m\u001b[43m \u001b[49m\u001b[38;5;28;43mself\u001b[39;49m\u001b[38;5;241;43m.\u001b[39;49m\u001b[43mgateway_client\u001b[49m\u001b[43m,\u001b[49m\u001b[43m \u001b[49m\u001b[38;5;28;43mself\u001b[39;49m\u001b[38;5;241;43m.\u001b[39;49m\u001b[43mtarget_id\u001b[49m\u001b[43m,\u001b[49m\u001b[43m \u001b[49m\u001b[38;5;28;43mself\u001b[39;49m\u001b[38;5;241;43m.\u001b[39;49m\u001b[43mname\u001b[49m\u001b[43m)\u001b[49m\n\u001b[0;32m   1325\u001b[0m \u001b[38;5;28;01mfor\u001b[39;00m temp_arg \u001b[38;5;129;01min\u001b[39;00m temp_args:\n\u001b[0;32m   1326\u001b[0m     \u001b[38;5;28;01mif\u001b[39;00m \u001b[38;5;28mhasattr\u001b[39m(temp_arg, \u001b[38;5;124m\"\u001b[39m\u001b[38;5;124m_detach\u001b[39m\u001b[38;5;124m\"\u001b[39m):\n",
      "File \u001b[1;32md:\\ML Models\\Big Data Mining\\.venv\\lib\\site-packages\\pyspark\\errors\\exceptions\\captured.py:179\u001b[0m, in \u001b[0;36mcapture_sql_exception.<locals>.deco\u001b[1;34m(*a, **kw)\u001b[0m\n\u001b[0;32m    177\u001b[0m \u001b[38;5;28;01mdef\u001b[39;00m \u001b[38;5;21mdeco\u001b[39m(\u001b[38;5;241m*\u001b[39ma: Any, \u001b[38;5;241m*\u001b[39m\u001b[38;5;241m*\u001b[39mkw: Any) \u001b[38;5;241m-\u001b[39m\u001b[38;5;241m>\u001b[39m Any:\n\u001b[0;32m    178\u001b[0m     \u001b[38;5;28;01mtry\u001b[39;00m:\n\u001b[1;32m--> 179\u001b[0m         \u001b[38;5;28;01mreturn\u001b[39;00m f(\u001b[38;5;241m*\u001b[39ma, \u001b[38;5;241m*\u001b[39m\u001b[38;5;241m*\u001b[39mkw)\n\u001b[0;32m    180\u001b[0m     \u001b[38;5;28;01mexcept\u001b[39;00m Py4JJavaError \u001b[38;5;28;01mas\u001b[39;00m e:\n\u001b[0;32m    181\u001b[0m         converted \u001b[38;5;241m=\u001b[39m convert_exception(e\u001b[38;5;241m.\u001b[39mjava_exception)\n",
      "File \u001b[1;32md:\\ML Models\\Big Data Mining\\.venv\\lib\\site-packages\\py4j\\protocol.py:326\u001b[0m, in \u001b[0;36mget_return_value\u001b[1;34m(answer, gateway_client, target_id, name)\u001b[0m\n\u001b[0;32m    324\u001b[0m value \u001b[38;5;241m=\u001b[39m OUTPUT_CONVERTER[\u001b[38;5;28mtype\u001b[39m](answer[\u001b[38;5;241m2\u001b[39m:], gateway_client)\n\u001b[0;32m    325\u001b[0m \u001b[38;5;28;01mif\u001b[39;00m answer[\u001b[38;5;241m1\u001b[39m] \u001b[38;5;241m==\u001b[39m REFERENCE_TYPE:\n\u001b[1;32m--> 326\u001b[0m     \u001b[38;5;28;01mraise\u001b[39;00m Py4JJavaError(\n\u001b[0;32m    327\u001b[0m         \u001b[38;5;124m\"\u001b[39m\u001b[38;5;124mAn error occurred while calling \u001b[39m\u001b[38;5;132;01m{0}\u001b[39;00m\u001b[38;5;132;01m{1}\u001b[39;00m\u001b[38;5;132;01m{2}\u001b[39;00m\u001b[38;5;124m.\u001b[39m\u001b[38;5;130;01m\\n\u001b[39;00m\u001b[38;5;124m\"\u001b[39m\u001b[38;5;241m.\u001b[39m\n\u001b[0;32m    328\u001b[0m         \u001b[38;5;28mformat\u001b[39m(target_id, \u001b[38;5;124m\"\u001b[39m\u001b[38;5;124m.\u001b[39m\u001b[38;5;124m\"\u001b[39m, name), value)\n\u001b[0;32m    329\u001b[0m \u001b[38;5;28;01melse\u001b[39;00m:\n\u001b[0;32m    330\u001b[0m     \u001b[38;5;28;01mraise\u001b[39;00m Py4JError(\n\u001b[0;32m    331\u001b[0m         \u001b[38;5;124m\"\u001b[39m\u001b[38;5;124mAn error occurred while calling \u001b[39m\u001b[38;5;132;01m{0}\u001b[39;00m\u001b[38;5;132;01m{1}\u001b[39;00m\u001b[38;5;132;01m{2}\u001b[39;00m\u001b[38;5;124m. Trace:\u001b[39m\u001b[38;5;130;01m\\n\u001b[39;00m\u001b[38;5;132;01m{3}\u001b[39;00m\u001b[38;5;130;01m\\n\u001b[39;00m\u001b[38;5;124m\"\u001b[39m\u001b[38;5;241m.\u001b[39m\n\u001b[0;32m    332\u001b[0m         \u001b[38;5;28mformat\u001b[39m(target_id, \u001b[38;5;124m\"\u001b[39m\u001b[38;5;124m.\u001b[39m\u001b[38;5;124m\"\u001b[39m, name, value))\n",
      "\u001b[1;31mPy4JJavaError\u001b[0m: An error occurred while calling o74.collectToPython.\n: java.lang.OutOfMemoryError: Java heap space\r\n\tat org.apache.spark.sql.execution.SparkPlan$$anon$1._next(SparkPlan.scala:415)\r\n\tat org.apache.spark.sql.execution.SparkPlan$$anon$1.getNext(SparkPlan.scala:426)\r\n\tat org.apache.spark.sql.execution.SparkPlan$$anon$1.getNext(SparkPlan.scala:412)\r\n\tat org.apache.spark.util.NextIterator.hasNext(NextIterator.scala:73)\r\n\tat scala.collection.Iterator.foreach(Iterator.scala:943)\r\n\tat scala.collection.Iterator.foreach$(Iterator.scala:943)\r\n\tat org.apache.spark.util.NextIterator.foreach(NextIterator.scala:21)\r\n\tat org.apache.spark.sql.execution.SparkPlan.$anonfun$executeCollect$1(SparkPlan.scala:449)\r\n\tat org.apache.spark.sql.execution.SparkPlan.$anonfun$executeCollect$1$adapted(SparkPlan.scala:448)\r\n\tat org.apache.spark.sql.execution.SparkPlan$$Lambda/0x0000021f03f84000.apply(Unknown Source)\r\n\tat scala.collection.IndexedSeqOptimized.foreach(IndexedSeqOptimized.scala:36)\r\n\tat scala.collection.IndexedSeqOptimized.foreach$(IndexedSeqOptimized.scala:33)\r\n\tat scala.collection.mutable.ArrayOps$ofRef.foreach(ArrayOps.scala:198)\r\n\tat org.apache.spark.sql.execution.SparkPlan.executeCollect(SparkPlan.scala:448)\r\n\tat org.apache.spark.sql.Dataset.$anonfun$collectToPython$1(Dataset.scala:4148)\r\n\tat org.apache.spark.sql.Dataset$$Lambda/0x0000021f03f3e5b0.apply(Unknown Source)\r\n\tat org.apache.spark.sql.Dataset.$anonfun$withAction$2(Dataset.scala:4322)\r\n\tat org.apache.spark.sql.Dataset$$Lambda/0x0000021f03cb44b0.apply(Unknown Source)\r\n\tat org.apache.spark.sql.execution.QueryExecution$.withInternalError(QueryExecution.scala:546)\r\n\tat org.apache.spark.sql.Dataset.$anonfun$withAction$1(Dataset.scala:4320)\r\n\tat org.apache.spark.sql.Dataset$$Lambda/0x0000021f03bd21c8.apply(Unknown Source)\r\n\tat org.apache.spark.sql.execution.SQLExecution$.$anonfun$withNewExecutionId$6(SQLExecution.scala:125)\r\n\tat org.apache.spark.sql.execution.SQLExecution$$$Lambda/0x0000021f03bd5950.apply(Unknown Source)\r\n\tat org.apache.spark.sql.execution.SQLExecution$.withSQLConfPropagated(SQLExecution.scala:201)\r\n\tat org.apache.spark.sql.execution.SQLExecution$.$anonfun$withNewExecutionId$1(SQLExecution.scala:108)\r\n\tat org.apache.spark.sql.execution.SQLExecution$$$Lambda/0x0000021f03bd2490.apply(Unknown Source)\r\n\tat org.apache.spark.sql.SparkSession.withActive(SparkSession.scala:900)\r\n\tat org.apache.spark.sql.execution.SQLExecution$.withNewExecutionId(SQLExecution.scala:66)\r\n\tat org.apache.spark.sql.Dataset.withAction(Dataset.scala:4320)\r\n\tat org.apache.spark.sql.Dataset.collectToPython(Dataset.scala:4145)\r\n\tat java.base/jdk.internal.reflect.NativeMethodAccessorImpl.invoke0(Native Method)\r\n\tat java.base/jdk.internal.reflect.NativeMethodAccessorImpl.invoke(NativeMethodAccessorImpl.java:75)\r\n"
     ]
    }
   ],
   "source": [
    "import matplotlib.pyplot as plt\n",
    "import seaborn as sns\n",
    "\n",
    "# Convert to pandas for EDA\n",
    "pandas_df = df_clean.toPandas()\n",
    "\n",
    "# Plot trip counts by hour\n",
    "plt.figure(figsize=(10, 6))\n",
    "sns.countplot(x='pickup_hour', data=pandas_df)\n",
    "plt.title('Number of Trips by Hour of Day')\n",
    "plt.xlabel('Hour of Day')\n",
    "plt.ylabel('Number of Trips')\n",
    "plt.show()\n",
    "\n",
    "# Plot trip counts by day of week\n",
    "plt.figure(figsize=(10, 6))\n",
    "sns.countplot(x='pickup_dayofweek', data=pandas_df)\n",
    "plt.title('Number of Trips by Day of Week')\n",
    "plt.xlabel('Day of Week')\n",
    "plt.ylabel('Number of Trips')\n",
    "plt.show()\n"
   ]
  },
  {
   "cell_type": "markdown",
   "id": "3135bfc1",
   "metadata": {},
   "source": [
    "This error typically occurs when Spark runs out of memory (Java heap space). Spark requires sufficient memory to process large datasets, and the default memory settings might not be adequate for your dataset size or processing operations.\n",
    "\n",
    "Steps followed to get rid of the error : \n",
    "Increased the memory space of spark driver and executor.(8GB)"
   ]
  },
  {
   "cell_type": "code",
   "execution_count": 7,
   "id": "a27f919c",
   "metadata": {},
   "outputs": [
    {
     "data": {
      "image/png": "[encoded data removed]",
      "text/plain": [
       "<Figure size 1000x600 with 1 Axes>"
      ]
     },
     "metadata": {},
     "output_type": "display_data"
    },
    {
     "data": {
      "image/png": "[encoded data removed]",
      "text/plain": [
       "<Figure size 1000x600 with 1 Axes>"
      ]
     },
     "metadata": {},
     "output_type": "display_data"
    }
   ],
   "source": [
    "from pyspark.sql import SparkSession\n",
    "import pyspark.sql.functions as F\n",
    "import matplotlib.pyplot as plt\n",
    "import seaborn as sns\n",
    "\n",
    "# Create a Spark session\n",
    "spark = SparkSession.builder \\\n",
    "    .appName(\"Big Data Analysis\") \\\n",
    "    .config(\"spark.driver.memory\", \"8g\") \\\n",
    "    .config(\"spark.executor.memory\", \"8g\") \\\n",
    "    .getOrCreate()\n",
    "\n",
    "\n",
    "\n",
    "# Extract hour and day of week from the pickup datetime\n",
    "df_clean = df_clean.withColumn(\"pickup_hour\", F.hour(df_clean[\"tpep_pickup_datetime\"]))\n",
    "df_clean = df_clean.withColumn(\"pickup_dayofweek\", F.dayofweek(df_clean[\"tpep_pickup_datetime\"]))\n",
    "\n",
    "\n",
    "#Instead of converting the entire dataset (df_clean) to a Pandas DataFrame (pandas_df) at once, the code aggregates \n",
    "#data first using Spark operations (groupBy, orderBy, etc.), then converts the aggregated results (hourly_counts and daily_counts) \n",
    "#to Pandas DataFrames (hourly_counts_pd and daily_counts_pd).\n",
    "\n",
    "# Aggregate data by hour and day of week\n",
    "hourly_counts = df_clean.groupBy(\"pickup_hour\").count().orderBy(\"pickup_hour\")\n",
    "daily_counts = df_clean.groupBy(\"pickup_dayofweek\").count().orderBy(\"pickup_dayofweek\")\n",
    "\n",
    "# Convert aggregated data to pandas\n",
    "hourly_counts_pd = hourly_counts.toPandas()\n",
    "daily_counts_pd = daily_counts.toPandas()\n",
    "\n",
    "# Plot trip counts by hour\n",
    "plt.figure(figsize=(10, 6))\n",
    "sns.barplot(x='pickup_hour', y='count', data=hourly_counts_pd)\n",
    "plt.title('Number of Trips by Hour of Day')\n",
    "plt.xlabel('Hour of Day')\n",
    "plt.ylabel('Number of Trips')\n",
    "plt.show()\n",
    "\n",
    "# Plot trip counts by day of week\n",
    "plt.figure(figsize=(10, 6))\n",
    "sns.barplot(x='pickup_dayofweek', y='count', data=daily_counts_pd)\n",
    "plt.title('Number of Trips by Day of Week')\n",
    "plt.xlabel('Day of Week')\n",
    "plt.ylabel('Number of Trips')\n",
    "plt.show()\n"
   ]
  },
  {
   "cell_type": "code",
   "execution_count": 8,
   "id": "955b32a4",
   "metadata": {},
   "outputs": [
    {
     "name": "stdout",
     "output_type": "stream",
     "text": [
      "+--------------+-----------+\n",
      "|      features|fare_amount|\n",
      "+--------------+-----------+\n",
      "| [0.0,7.0,1.7]|        9.5|\n",
      "|[0.0,7.0,0.72]|        5.5|\n",
      "|[0.0,7.0,1.74]|        9.0|\n",
      "| [0.0,7.0,1.3]|        6.5|\n",
      "| [0.0,7.0,1.0]|        6.0|\n",
      "+--------------+-----------+\n",
      "only showing top 5 rows\n",
      "\n"
     ]
    }
   ],
   "source": [
    "# Create feature columns\n",
    "feature_columns = ['pickup_hour', 'pickup_dayofweek', 'trip_distance']\n",
    "\n",
    "# Convert to VectorAssembler format\n",
    "from pyspark.ml.feature import VectorAssembler\n",
    "\n",
    "assembler = VectorAssembler(inputCols=feature_columns, outputCol='features')\n",
    "df_features = assembler.transform(df_clean)\n",
    "\n",
    "df_features.select('features', 'fare_amount').show(5)\n"
   ]
  },
  {
   "cell_type": "code",
   "execution_count": 9,
   "id": "46cf1687",
   "metadata": {},
   "outputs": [
    {
     "name": "stdout",
     "output_type": "stream",
     "text": [
      "R2: -0.005522273072238848\n",
      "RMSE: 13.616772032372767\n"
     ]
    }
   ],
   "source": [
    "from pyspark.ml.regression import LinearRegression\n",
    "from pyspark.ml.evaluation import RegressionEvaluator\n",
    "\n",
    "# Split the data\n",
    "train_data, test_data = df_features.randomSplit([0.8, 0.2], seed=1234)\n",
    "\n",
    "# Initialize and train the model\n",
    "lr = LinearRegression(labelCol='fare_amount')\n",
    "lr_model = lr.fit(train_data)\n",
    "\n",
    "# Evaluate the model\n",
    "test_results = lr_model.evaluate(test_data)\n",
    "print(f'R2: {test_results.r2}')\n",
    "print(f'RMSE: {test_results.rootMeanSquaredError}')\n"
   ]
  },
  {
   "cell_type": "code",
   "execution_count": 10,
   "id": "7de06607",
   "metadata": {},
   "outputs": [
    {
     "name": "stdout",
     "output_type": "stream",
     "text": [
      "R²: -3.815370590354306e-06\n",
      "RMSE: 482.2297083048705\n"
     ]
    }
   ],
   "source": [
    "from pyspark.sql import SparkSession\n",
    "import pyspark.sql.functions as F\n",
    "from pyspark.ml.feature import VectorAssembler\n",
    "from pyspark.ml.regression import LinearRegression\n",
    "from pyspark.ml.evaluation import RegressionEvaluator\n",
    "\n",
    "# Create a Spark session\n",
    "spark = SparkSession.builder \\\n",
    "    .appName(\"Big Data Analysis\") \\\n",
    "    .config(\"spark.driver.memory\", \"8g\") \\\n",
    "    .config(\"spark.executor.memory\", \"8g\") \\\n",
    "    .getOrCreate()\n",
    "\n",
    "# Load the Parquet file into a Spark DataFrame\n",
    "df_clean = spark.read.parquet('Data/yellow_tripdata_2022-10.parquet')\n",
    "\n",
    "# Extract hour and day of week from the pickup datetime\n",
    "df_clean = df_clean.withColumn(\"pickup_hour\", F.hour(df_clean[\"tpep_pickup_datetime\"]))\n",
    "df_clean = df_clean.withColumn(\"pickup_dayofweek\", F.dayofweek(df_clean[\"tpep_pickup_datetime\"]))\n",
    "\n",
    "# Assemble features into a feature vector\n",
    "assembler = VectorAssembler(inputCols=[\"pickup_hour\", \"pickup_dayofweek\"], outputCol=\"features\")\n",
    "df_features = assembler.transform(df_clean)\n",
    "\n",
    "# Split the data into training and test sets\n",
    "train_data, test_data = df_features.randomSplit([0.8, 0.2], seed=1234)\n",
    "\n",
    "# Initialize and train a linear regression model\n",
    "lr = LinearRegression(featuresCol=\"features\", labelCol=\"trip_distance\")\n",
    "lr_model = lr.fit(train_data)\n",
    "\n",
    "# Make predictions on the test set\n",
    "predictions = lr_model.transform(test_data)\n",
    "\n",
    "# Evaluate the model\n",
    "evaluator = RegressionEvaluator(labelCol=\"trip_distance\", predictionCol=\"prediction\", metricName=\"r2\")\n",
    "r2 = evaluator.evaluate(predictions)\n",
    "print(\"R²:\", r2)\n",
    "\n",
    "evaluator = RegressionEvaluator(labelCol=\"trip_distance\", predictionCol=\"prediction\", metricName=\"rmse\")\n",
    "rmse = evaluator.evaluate(predictions)\n",
    "print(\"RMSE:\", rmse)\n"
   ]
  },
  {
   "cell_type": "code",
   "execution_count": 11,
   "id": "e361f494",
   "metadata": {},
   "outputs": [
    {
     "name": "stdout",
     "output_type": "stream",
     "text": [
      "R²: 5.137504871699505e-05\n",
      "RMSE: 482.21640094212887\n"
     ]
    }
   ],
   "source": [
    "from pyspark.sql import SparkSession\n",
    "import pyspark.sql.functions as F\n",
    "from pyspark.ml.feature import VectorAssembler\n",
    "from pyspark.ml.regression import RandomForestRegressor\n",
    "from pyspark.ml.evaluation import RegressionEvaluator\n",
    "\n",
    "# Create a Spark session\n",
    "spark = SparkSession.builder \\\n",
    "    .appName(\"Big Data Analysis\") \\\n",
    "    .config(\"spark.driver.memory\", \"8g\") \\\n",
    "    .config(\"spark.executor.memory\", \"8g\") \\\n",
    "    .getOrCreate()\n",
    "\n",
    "# Load the Parquet file into a Spark DataFrame\n",
    "df_clean = spark.read.parquet('Data/yellow_tripdata_2022-10.parquet')\n",
    "\n",
    "# Extract hour and day of week from the pickup datetime\n",
    "df_clean = df_clean.withColumn(\"pickup_hour\", F.hour(df_clean[\"tpep_pickup_datetime\"]))\n",
    "df_clean = df_clean.withColumn(\"pickup_dayofweek\", F.dayofweek(df_clean[\"tpep_pickup_datetime\"]))\n",
    "\n",
    "# Assemble features into a feature vector\n",
    "assembler = VectorAssembler(inputCols=[\"pickup_hour\", \"pickup_dayofweek\"], outputCol=\"features\")\n",
    "df_features = assembler.transform(df_clean)\n",
    "\n",
    "# Split the data into training and test sets\n",
    "train_data, test_data = df_features.randomSplit([0.8, 0.2], seed=1234)\n",
    "\n",
    "# Initialize and train a Random Forest model\n",
    "rf = RandomForestRegressor(featuresCol=\"features\", labelCol=\"trip_distance\")\n",
    "rf_model = rf.fit(train_data)\n",
    "\n",
    "# Make predictions on the test set\n",
    "predictions = rf_model.transform(test_data)\n",
    "\n",
    "# Evaluate the model\n",
    "evaluator = RegressionEvaluator(labelCol=\"trip_distance\", predictionCol=\"prediction\", metricName=\"r2\")\n",
    "r2 = evaluator.evaluate(predictions)\n",
    "print(\"R²:\", r2)\n",
    "\n",
    "evaluator = RegressionEvaluator(labelCol=\"trip_distance\", predictionCol=\"prediction\", metricName=\"rmse\")\n",
    "rmse = evaluator.evaluate(predictions)\n",
    "print(\"RMSE:\", rmse)\n"
   ]
  },
  {
   "cell_type": "code",
   "execution_count": 12,
   "id": "50a42ce3",
   "metadata": {},
   "outputs": [
    {
     "name": "stdout",
     "output_type": "stream",
     "text": [
      "R²: -6.575567847444397e-05\n",
      "RMSE: 482.2446427449343\n"
     ]
    }
   ],
   "source": [
    "from pyspark.sql import SparkSession\n",
    "import pyspark.sql.functions as F\n",
    "from pyspark.ml.feature import VectorAssembler\n",
    "from pyspark.ml.regression import GBTRegressor\n",
    "from pyspark.ml.evaluation import RegressionEvaluator\n",
    "\n",
    "# Create a Spark session\n",
    "spark = SparkSession.builder \\\n",
    "    .appName(\"Big Data Analysis\") \\\n",
    "    .config(\"spark.driver.memory\", \"8g\") \\\n",
    "    .config(\"spark.executor.memory\", \"8g\") \\\n",
    "    .getOrCreate()\n",
    "\n",
    "# Load the Parquet file into a Spark DataFrame\n",
    "df_clean = spark.read.parquet('Data/yellow_tripdata_2022-10.parquet')\n",
    "\n",
    "# Extract hour and day of week from the pickup datetime\n",
    "df_clean = df_clean.withColumn(\"pickup_hour\", F.hour(df_clean[\"tpep_pickup_datetime\"]))\n",
    "df_clean = df_clean.withColumn(\"pickup_dayofweek\", F.dayofweek(df_clean[\"tpep_pickup_datetime\"]))\n",
    "\n",
    "# Assemble features into a feature vector\n",
    "assembler = VectorAssembler(inputCols=[\"pickup_hour\", \"pickup_dayofweek\"], outputCol=\"features\")\n",
    "df_features = assembler.transform(df_clean)\n",
    "\n",
    "# Split the data into training and test sets\n",
    "train_data, test_data = df_features.randomSplit([0.8, 0.2], seed=1234)\n",
    "\n",
    "# Initialize and train a Gradient Boosting model\n",
    "gbt = GBTRegressor(featuresCol=\"features\", labelCol=\"trip_distance\", maxIter=100)\n",
    "gbt_model = gbt.fit(train_data)\n",
    "\n",
    "# Make predictions on the test set\n",
    "predictions = gbt_model.transform(test_data)\n",
    "\n",
    "# Evaluate the model\n",
    "evaluator = RegressionEvaluator(labelCol=\"trip_distance\", predictionCol=\"prediction\", metricName=\"r2\")\n",
    "r2 = evaluator.evaluate(predictions)\n",
    "print(\"R²:\", r2)\n",
    "\n",
    "evaluator = RegressionEvaluator(labelCol=\"trip_distance\", predictionCol=\"prediction\", metricName=\"rmse\")\n",
    "rmse = evaluator.evaluate(predictions)\n",
    "print(\"RMSE:\", rmse)\n"
   ]
  },
  {
   "cell_type": "code",
   "execution_count": 13,
   "id": "3a20eac5",
   "metadata": {},
   "outputs": [
    {
     "name": "stdout",
     "output_type": "stream",
     "text": [
      "R²: 0.017774558872846735\n",
      "RMSE: 27.48007556680294\n"
     ]
    }
   ],
   "source": [
    "from pyspark.sql import SparkSession\n",
    "import pyspark.sql.functions as F\n",
    "from pyspark.ml.feature import VectorAssembler, StandardScaler\n",
    "from pyspark.ml.regression import RandomForestRegressor\n",
    "from pyspark.ml.evaluation import RegressionEvaluator\n",
    "from pyspark.ml import Pipeline\n",
    "\n",
    "# Create a Spark session\n",
    "spark = SparkSession.builder \\\n",
    "    .appName(\"Big Data Analysis\") \\\n",
    "    .config(\"spark.driver.memory\", \"8g\") \\\n",
    "    .config(\"spark.executor.memory\", \"8g\") \\\n",
    "    .getOrCreate()\n",
    "\n",
    "# Load the Parquet file into a Spark DataFrame\n",
    "df_clean = spark.read.parquet('data/yellow_tripdata_2022-10.parquet')\n",
    "\n",
    "# Feature Engineering\n",
    "df_clean = df_clean.withColumn(\"pickup_hour\", F.hour(df_clean[\"tpep_pickup_datetime\"]))\n",
    "df_clean = df_clean.withColumn(\"pickup_dayofweek\", F.dayofweek(df_clean[\"tpep_pickup_datetime\"]))\n",
    "df_clean = df_clean.withColumn(\"trip_duration\", \n",
    "                                (F.unix_timestamp(\"tpep_dropoff_datetime\") - F.unix_timestamp(\"tpep_pickup_datetime\")) / 60)\n",
    "\n",
    "# Handle missing or infinite values\n",
    "df_clean = df_clean.na.drop()\n",
    "\n",
    "# Assemble features into a feature vector\n",
    "assembler = VectorAssembler(inputCols=[\"pickup_hour\", \"pickup_dayofweek\", \"trip_duration\"], outputCol=\"features\")\n",
    "\n",
    "# Standardize features\n",
    "scaler = StandardScaler(inputCol=\"features\", outputCol=\"scaled_features\")\n",
    "\n",
    "# Initialize and train a Random Forest model\n",
    "rf = RandomForestRegressor(featuresCol=\"scaled_features\", labelCol=\"trip_distance\", numTrees=100)\n",
    "\n",
    "# Create a pipeline\n",
    "pipeline = Pipeline(stages=[assembler, scaler, rf])\n",
    "\n",
    "# Split the data into training and test sets\n",
    "train_data, test_data = df_clean.randomSplit([0.8, 0.2], seed=1234)\n",
    "\n",
    "# Train the model\n",
    "model = pipeline.fit(train_data)\n",
    "\n",
    "# Make predictions on the test set\n",
    "predictions = model.transform(test_data)\n",
    "\n",
    "# Evaluate the model\n",
    "evaluator = RegressionEvaluator(labelCol=\"trip_distance\", predictionCol=\"prediction\", metricName=\"r2\")\n",
    "r2 = evaluator.evaluate(predictions)\n",
    "print(\"R²:\", r2)\n",
    "\n",
    "evaluator = RegressionEvaluator(labelCol=\"trip_distance\", predictionCol=\"prediction\", metricName=\"rmse\")\n",
    "rmse = evaluator.evaluate(predictions)\n",
    "print(\"RMSE:\", rmse)\n"
   ]
  },
  {
   "cell_type": "code",
   "execution_count": 23,
   "id": "41146b19",
   "metadata": {},
   "outputs": [
    {
     "name": "stdout",
     "output_type": "stream",
     "text": [
      "+------------+------------+--------+--------------------+---------------------+---------------+-------------+----------+------------------+------------+-----------+-----+-------+----------+------------+---------------------+------------+--------------------+-----------+-----------+----------------+------------------+---------------+----------------+--------------------+--------------+----------------+-----------------+--------------------+---------------+\n",
      "|DOLocationID|PULocationID|VendorID|tpep_pickup_datetime|tpep_dropoff_datetime|passenger_count|trip_distance|RatecodeID|store_and_fwd_flag|payment_type|fare_amount|extra|mta_tax|tip_amount|tolls_amount|improvement_surcharge|total_amount|congestion_surcharge|airport_fee|pickup_hour|pickup_dayofweek|     trip_duration|pickup_latitude|pickup_longitude|         pickup_zone|pickup_borough|dropoff_latitude|dropoff_longitude|        dropoff_zone|dropoff_borough|\n",
      "+------------+------------+--------+--------------------+---------------------+---------------+-------------+----------+------------------+------------+-----------+-----+-------+----------+------------+---------------------+------------+--------------------+-----------+-----------+----------------+------------------+---------------+----------------+--------------------+--------------+----------------+-----------------+--------------------+---------------+\n",
      "|         107|         249|       1| 2022-10-01 00:03:41|  2022-10-01 00:18:39|            1.0|          1.7|       1.0|                 N|           1|        9.5|  3.0|    0.5|      2.65|         0.0|                  0.3|       15.95|                 2.5|        0.0|          0|               7|14.966666666666667|    0.036384344|         7.22E-5|        West Village|     Manhattan|     0.038041365|          7.46E-5|            Gramercy|      Manhattan|\n",
      "|         238|         151|       2| 2022-10-01 00:14:30|  2022-10-01 00:19:48|            2.0|         0.72|       1.0|                 N|           2|        5.5|  0.5|    0.5|       0.0|         0.0|                  0.3|         9.3|                 2.5|        0.0|          0|               7|               5.3|    0.054889941|      1.28849E-4|    Manhattan Valley|     Manhattan|     0.060109311|       1.84764E-4|Upper West Side N...|      Manhattan|\n",
      "|         166|         238|       2| 2022-10-01 00:27:13|  2022-10-01 00:37:41|            1.0|         1.74|       1.0|                 N|           1|        9.0|  0.5|    0.5|      2.06|         0.0|                  0.3|       12.36|                 0.0|        0.0|          0|               7|10.466666666666667|    0.060109311|      1.84764E-4|Upper West Side N...|     Manhattan|     0.068823754|       2.55276E-4| Morningside Heights|      Manhattan|\n",
      "|         239|         142|       1| 2022-10-01 00:32:53|  2022-10-01 00:38:55|            0.0|          1.3|       1.0|                 N|           1|        6.5|  3.0|    0.5|      2.05|         0.0|                  0.3|       12.35|                 2.5|        0.0|          0|               7| 6.033333333333333|    0.038175894|         7.57E-5| Lincoln Square East|     Manhattan|     0.063626115|       2.04715E-4|Upper West Side S...|      Manhattan|\n",
      "|         166|         238|       1| 2022-10-01 00:44:55|  2022-10-01 00:50:21|            0.0|          1.0|       1.0|                 N|           1|        6.0|  0.5|    0.5|       1.8|         0.0|                  0.3|         9.1|                 0.0|        0.0|          0|               7| 5.433333333333334|    0.060109311|      1.84764E-4|Upper West Side N...|     Manhattan|     0.068823754|       2.55276E-4| Morningside Heights|      Manhattan|\n",
      "|          41|         186|       1| 2022-10-01 00:22:52|  2022-10-01 00:52:14|            1.0|          6.8|       1.0|                 Y|           2|       25.5|  3.0|    0.5|       0.0|         0.0|                  0.3|        29.3|                 2.5|        0.0|          0|               7|29.366666666666667|     0.02469639|         3.71E-5|Penn Station/Madi...|     Manhattan|     0.052793109|       1.43093E-4|      Central Harlem|      Manhattan|\n",
      "|         145|         162|       2| 2022-10-01 00:33:19|  2022-10-01 00:44:51|            3.0|         1.88|       1.0|                 N|           2|       10.5|  0.5|    0.5|       0.0|         0.0|                  0.3|        14.3|                 2.5|        0.0|          0|               7|11.533333333333333|    0.035269815|         4.79E-5|        Midtown East|     Manhattan|     0.114313845|       3.46642E-4|Long Island City/...|         Queens|\n",
      "|          22|         100|       1| 2022-10-01 00:02:42|  2022-10-01 00:50:01|            1.0|         12.2|       1.0|                 N|           1|       41.0|  3.0|    0.5|       3.0|         0.0|                  0.3|        47.8|                 2.5|        0.0|          0|               7| 47.31666666666667|    0.024813109|         3.75E-5|    Garment District|     Manhattan|     0.126170229|       4.72063E-4|    Bensonhurst West|       Brooklyn|\n",
      "|         112|         138|       2| 2022-10-01 00:06:35|  2022-10-01 00:24:38|            1.0|         7.79|       1.0|                 N|           1|       23.5|  0.5|    0.5|      4.96|         0.0|                  0.3|       31.01|                 0.0|       1.25|          0|               7|             18.05|    0.107466934|      5.36797E-4|   LaGuardia Airport|        Queens|     0.107267876|       4.62069E-4|          Greenpoint|       Brooklyn|\n",
      "|          75|         145|       2| 2022-10-01 00:29:25|  2022-10-01 00:43:15|            1.0|         4.72|       1.0|                 N|           1|       14.5|  0.5|    0.5|       1.5|         0.0|                  0.3|        19.8|                 2.5|        0.0|          0|               7|13.833333333333334|    0.114313845|      3.46642E-4|Long Island City/...|        Queens|       0.0876639|       2.40564E-4|   East Harlem South|      Manhattan|\n",
      "|         236|         138|       1| 2022-10-01 00:01:55|  2022-10-01 00:20:16|            1.0|          8.8|       1.0|                 N|           1|       26.0| 4.25|    0.5|      5.64|        6.55|                  0.3|       43.24|                 2.5|       1.25|          0|               7|             18.35|    0.107466934|      5.36797E-4|   LaGuardia Airport|        Queens|     0.044251922|       1.02864E-4|Upper East Side N...|      Manhattan|\n",
      "|          36|         140|       1| 2022-10-01 00:27:48|  2022-10-01 00:59:50|            1.0|          8.6|       1.0|                 N|           1|       29.5|  3.0|    0.5|       6.0|         0.0|                  0.3|        39.3|                 2.5|        0.0|          0|               7| 32.03333333333333|    0.047584291|      1.14204E-4|     Lenox Hill East|     Manhattan|     0.087050787|       2.47666E-4|      Bushwick North|       Brooklyn|\n",
      "|         230|          70|       1| 2022-10-01 00:05:27|  2022-10-01 00:35:33|            4.0|         12.0|       1.0|                 N|           2|       36.5|  3.0|    0.5|       0.0|        6.55|                  0.3|       46.85|                 2.5|        0.0|          0|               7|              30.1|    0.063840318|      1.95458E-4|       East Elmhurst|        Queens|      0.03102831|          5.61E-5|Times Sq/Theatre ...|      Manhattan|\n",
      "|          68|         230|       1| 2022-10-01 00:38:53|  2022-10-01 00:48:13|            2.0|          1.4|       1.0|                 N|           1|        8.5|  3.0|    0.5|      3.05|         0.0|                  0.3|       15.35|                 2.5|        0.0|          0|               7| 9.333333333333334|     0.03102831|         5.61E-5|Times Sq/Theatre ...|     Manhattan|      0.04933738|       1.11073E-4|        East Chelsea|      Manhattan|\n",
      "|         113|          79|       2| 2022-10-01 00:24:40|  2022-10-01 00:30:23|            1.0|         0.76|       1.0|                 N|           1|        5.5|  0.5|    0.5|      0.93|         0.0|                  0.3|       10.23|                 2.5|        0.0|          0|               7| 5.716666666666667|    0.042624911|      1.07893E-4|        East Village|     Manhattan|     0.032745351|           5.8E-5|Greenwich Village...|      Manhattan|\n",
      "|         116|         113|       2| 2022-10-01 00:32:22|  2022-10-01 00:58:55|            1.0|          7.8|       1.0|                 N|           1|       26.5|  0.5|    0.5|      6.06|         0.0|                  0.3|       36.36|                 2.5|        0.0|          0|               7|             26.55|    0.032745351|          5.8E-5|Greenwich Village...|     Manhattan|     0.068116484|       2.60415E-4|    Hamilton Heights|      Manhattan|\n",
      "|         249|          13|       2| 2022-10-01 00:17:08|  2022-10-01 00:30:50|            2.0|          2.9|       1.0|                 N|           1|       12.0|  0.5|    0.5|       2.8|         0.0|                  0.3|        18.6|                 2.5|        0.0|          0|               7|              13.7|    0.050281323|      1.49359E-4|   Battery Park City|     Manhattan|     0.036384344|          7.22E-5|        West Village|      Manhattan|\n",
      "|          79|         249|       2| 2022-10-01 00:32:14|  2022-10-01 00:44:35|            1.0|         1.71|       1.0|                 N|           1|        9.0|  0.5|    0.5|      2.56|         0.0|                  0.3|       15.36|                 2.5|        0.0|          0|               7|             12.35|    0.036384344|         7.22E-5|        West Village|     Manhattan|     0.042624911|       1.07893E-4|        East Village|      Manhattan|\n",
      "|         249|          48|       2| 2022-10-01 00:09:24|  2022-10-01 00:21:45|            1.0|          2.3|       1.0|                 N|           1|       10.0|  0.5|    0.5|      2.76|         0.0|                  0.3|       16.56|                 2.5|        0.0|          0|               7|             12.35|    0.043746744|         9.43E-5|        Clinton East|     Manhattan|     0.036384344|          7.22E-5|        West Village|      Manhattan|\n",
      "|         224|         249|       2| 2022-10-01 00:22:29|  2022-10-01 00:33:53|            2.0|         1.67|       1.0|                 N|           1|        8.5|  0.5|    0.5|      2.46|         0.0|                  0.3|       14.76|                 2.5|        0.0|          0|               7|              11.4|    0.036384344|         7.22E-5|        West Village|     Manhattan|     0.044020446|          9.85E-5|Stuy Town/Peter C...|      Manhattan|\n",
      "+------------+------------+--------+--------------------+---------------------+---------------+-------------+----------+------------------+------------+-----------+-----+-------+----------+------------+---------------------+------------+--------------------+-----------+-----------+----------------+------------------+---------------+----------------+--------------------+--------------+----------------+-----------------+--------------------+---------------+\n",
      "only showing top 20 rows\n",
      "\n",
      "R²: 0.4882807674614845\n",
      "RMSE: 4.200132431822316\n"
     ]
    }
   ],
   "source": [
    "from pyspark.sql import SparkSession\n",
    "from pyspark.ml.feature import VectorAssembler, StandardScaler\n",
    "from pyspark.ml.regression import RandomForestRegressor\n",
    "from pyspark.ml.evaluation import RegressionEvaluator\n",
    "from pyspark.ml import Pipeline\n",
    "import pyspark.sql.functions as F\n",
    "\n",
    "# Create a Spark session\n",
    "spark = SparkSession.builder \\\n",
    "    .appName(\"Big Data Analysis\") \\\n",
    "    .config(\"spark.driver.memory\", \"8g\") \\\n",
    "    .config(\"spark.executor.memory\", \"8g\") \\\n",
    "    .getOrCreate()\n",
    "\n",
    "# Load the Parquet file into a Spark DataFrame\n",
    "df_clean = spark.read.parquet('data/yellow_tripdata_2022-10.parquet')\n",
    "\n",
    "# Load the location lookup table\n",
    "location_lookup = spark.read.csv('data/taxi_zones_tripdata.csv', header=True, inferSchema=True)\n",
    "\n",
    "# Extract hour and day of week from the pickup datetime\n",
    "df_clean = df_clean.withColumn(\"pickup_hour\", F.hour(df_clean[\"tpep_pickup_datetime\"]))\n",
    "df_clean = df_clean.withColumn(\"pickup_dayofweek\", F.dayofweek(df_clean[\"tpep_pickup_datetime\"]))\n",
    "df_clean = df_clean.withColumn(\"trip_duration\", \n",
    "                               (F.unix_timestamp(\"tpep_dropoff_datetime\") - F.unix_timestamp(\"tpep_pickup_datetime\")) / 60)\n",
    "\n",
    "# Rename columns in the lookup table to avoid ambiguity\n",
    "pickup_location_lookup = location_lookup.withColumnRenamed(\"LocationID\", \"PULocationID\") \\\n",
    "                                        .withColumnRenamed(\"Latitude\", \"pickup_latitude\") \\\n",
    "                                        .withColumnRenamed(\"Longitude\", \"pickup_longitude\") \\\n",
    "                                        .withColumnRenamed(\"Zone\", \"pickup_zone\") \\\n",
    "                                        .withColumnRenamed(\"Borough\", \"pickup_borough\")\n",
    "\n",
    "dropoff_location_lookup = location_lookup.withColumnRenamed(\"LocationID\", \"DOLocationID\") \\\n",
    "                                         .withColumnRenamed(\"Latitude\", \"dropoff_latitude\") \\\n",
    "                                         .withColumnRenamed(\"Longitude\", \"dropoff_longitude\") \\\n",
    "                                         .withColumnRenamed(\"Zone\", \"dropoff_zone\") \\\n",
    "                                         .withColumnRenamed(\"Borough\", \"dropoff_borough\")\n",
    "\n",
    "# Join with the location lookup table for pickup and dropoff locations\n",
    "df_clean = df_clean.join(pickup_location_lookup, on=\"PULocationID\", how=\"left\")\n",
    "df_clean = df_clean.join(dropoff_location_lookup, on=\"DOLocationID\", how=\"left\")\n",
    "\n",
    "# Handle missing or infinite values\n",
    "df_clean = df_clean.na.drop()\n",
    "\n",
    "# Show a sample of the DataFrame\n",
    "df_clean.show()\n",
    "\n",
    "# Assemble features into a feature vector\n",
    "assembler = VectorAssembler(inputCols=[\n",
    "    \"pickup_hour\", \"pickup_dayofweek\", \"trip_duration\",\n",
    "    \"pickup_latitude\", \"pickup_longitude\", \"dropoff_latitude\", \"dropoff_longitude\"\n",
    "], outputCol=\"features\")\n",
    "\n",
    "# Standardize features\n",
    "scaler = StandardScaler(inputCol=\"features\", outputCol=\"scaled_features\")\n",
    "\n",
    "# Initialize and train a Random Forest model\n",
    "rf = RandomForestRegressor(featuresCol=\"scaled_features\", labelCol=\"trip_distance\", numTrees=100)\n",
    "\n",
    "# Create a pipeline\n",
    "pipeline = Pipeline(stages=[assembler, scaler, rf])\n",
    "\n",
    "# Split the data into training and test sets\n",
    "train_data, test_data = df_clean.randomSplit([0.8, 0.2], seed=1234)\n",
    "\n",
    "# Train the model\n",
    "model = pipeline.fit(train_data)\n",
    "\n",
    "# Make predictions on the test set\n",
    "predictions = model.transform(test_data)\n",
    "\n",
    "# Evaluate the model\n",
    "evaluator = RegressionEvaluator(labelCol=\"trip_distance\", predictionCol=\"prediction\", metricName=\"r2\")\n",
    "r2 = evaluator.evaluate(predictions)\n",
    "print(\"R²:\", r2)\n",
    "\n",
    "evaluator = RegressionEvaluator(labelCol=\"trip_distance\", predictionCol=\"prediction\", metricName=\"rmse\")\n",
    "rmse = evaluator.evaluate(predictions)\n",
    "print(\"RMSE:\", rmse)\n",
    "\n",
    "\n"
   ]
  }
 ],
 "metadata": {
  "kernelspec": {
   "display_name": "Python 3",
   "language": "python",
   "name": "python3"
  },
  "language_info": {
   "codemirror_mode": {
    "name": "ipython",
    "version": 3
   },
   "file_extension": ".py",
   "mimetype": "text/x-python",
   "name": "python",
   "nbconvert_exporter": "python",
   "pygments_lexer": "ipython3",
   "version": "3.10.9"
  }
 },
 "nbformat": 4,
 "nbformat_minor": 5
}
